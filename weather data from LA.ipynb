{
 "cells": [
  {
   "cell_type": "code",
   "execution_count": 9,
   "source": [
    "# dude is just giving me the whole ass code\r\n",
    "from citipy import citipy\r\n",
    "import numpy as np\r\n",
    "import pandas as pd\r\n"
   ],
   "outputs": [],
   "metadata": {}
  },
  {
   "cell_type": "code",
   "execution_count": 10,
   "source": [
    "# Create a set of random latitude and longitude combinations.\r\n",
    "lats = np.random.uniform(low=-90.000, high=90.000, size=2000)\r\n",
    "lngs = np.random.uniform(low=-180.000, high=180.000, size=2000)\r\n",
    "lat_lngs = zip(lats, lngs)"
   ],
   "outputs": [],
   "metadata": {}
  },
  {
   "cell_type": "code",
   "execution_count": 11,
   "source": [
    "# Add the latitudes and longitudes to a list.\r\n",
    "coordinates = list(lat_lngs)"
   ],
   "outputs": [],
   "metadata": {}
  },
  {
   "cell_type": "code",
   "execution_count": 12,
   "source": [
    "# Create a list for holding the cities.\r\n",
    "cities = []\r\n",
    "\r\n",
    "\r\n",
    "# Identify nearest city for each latitude and longitude combination\r\n",
    "for coordinate in coordinates:\r\n",
    "    city = citipy.nearest_city(coordinate[0], coordinate[1]).city_name\r\n",
    "    \r\n",
    "    # If the city is unique, then add it to a our cities list\r\n",
    "    if city not in cities:\r\n",
    "        cities.append(city)\r\n",
    "\r\n",
    "# Print the city count to confirm sufficient count\r\n",
    "len(cities)"
   ],
   "outputs": [
    {
     "output_type": "execute_result",
     "data": {
      "text/plain": [
       "760"
      ]
     },
     "metadata": {},
     "execution_count": 12
    }
   ],
   "metadata": {}
  },
  {
   "cell_type": "code",
   "execution_count": 13,
   "source": [
    "# Import the requests library.\r\n",
    "import requests\r\n",
    "\r\n",
    "# Import the datetime module from the datetime library.\r\n",
    "from datetime import datetime\r\n",
    "\r\n",
    "# Import the API key.\r\n",
    "from api_keys import weather_key"
   ],
   "outputs": [],
   "metadata": {}
  },
  {
   "cell_type": "code",
   "execution_count": 14,
   "source": [
    "# Starting URL for Weather Map API Call.\r\n",
    "url = \"http://api.openweathermap.org/data/2.5/weather?units=Imperial&APPID=\" + weather_key"
   ],
   "outputs": [],
   "metadata": {}
  },
  {
   "cell_type": "code",
   "execution_count": 15,
   "source": [
    "# List of city data\r\n",
    "city_data = []\r\n",
    "\r\n",
    "cities = []\r\n",
    "\r\n",
    "\r\n",
    "# Create counters\r\n",
    "record_count = 1\r\n",
    "set_count = 1\r\n",
    "\r\n",
    "# Loop through all the cities in our list\r\n",
    "for i, city in enumerate(cities):\r\n",
    "        \r\n",
    "    # Group cities in sets of 50 for logging purposes\r\n",
    "    if (i % 50 == 0 and i >= 50):\r\n",
    "        set_count += 1\r\n",
    "        record_count = 1\r\n",
    "\r\n",
    "    # Create endpoint URL with each city\r\n",
    "    city_url = url + \"&q=\" + city.replace(\" \",\"+\")\r\n",
    "    \r\n",
    "    # Log the url, record, and set numbers\r\n",
    "    print(f\"Processing Record {record_count} of Set {set_count} | {city}\")\r\n",
    "\r\n",
    "    # Add 1 to the record count\r\n",
    "    record_count += 1\r\n",
    "\r\n",
    "    # Run an API request for each of the cities\r\n",
    "    try:\r\n",
    "        city_weather = requests.get(city_url).json()\r\n",
    "        # Parse out the max temp, humidity, and cloudiness\r\n",
    "        city_lat = city_weather[\"coord\"][\"lat\"]\r\n",
    "        city_lng = city_weather[\"coord\"][\"lon\"]\r\n",
    "        city_max_temp = city_weather[\"main\"][\"temp_max\"]\r\n",
    "        city_humidity = city_weather[\"main\"][\"humidity\"]\r\n",
    "        city_clouds = city_weather[\"clouds\"][\"all\"]\r\n",
    "        city_wind = city_weather[\"wind\"][\"speed\"]\r\n",
    "        city_country = city_weather[\"sys\"][\"country\"]\r\n",
    "        city_weather_description = city_weather[\"weather\"][0][\"description\"]       \r\n",
    "            \r\n",
    "            # Append the City information into city_data list\r\n",
    "        city_data.append({\"City\": city.title(), \r\n",
    "                          \"Lat\": city_lat, \r\n",
    "                          \"Lng\": city_lng, \r\n",
    "                          \"Max Temp\": city_max_temp,\r\n",
    "                          \"Current Description\": city_weather_description,\r\n",
    "                          \"Humidity\": city_humidity,\r\n",
    "                          \"Cloudiness\": city_clouds,\r\n",
    "                          \"Wind Speed\": city_wind,\r\n",
    "                          \"Country\": city_country})\r\n",
    "    # If an error is experienced, skip the city\r\n",
    "\r\n",
    "    except:\r\n",
    "        print(\"City not found. Skipping...\")\r\n",
    "        pass\r\n",
    "\r\n",
    "# Indicate that Data Loading is complete \r\n",
    "# print(\"-----------------------------\")\r\n",
    "# print(\"Data Retrieval Complete      \")\r\n",
    "# print(\"-----------------------------\")\r\n",
    "\r\n",
    "city_data"
   ],
   "outputs": [
    {
     "output_type": "execute_result",
     "data": {
      "text/plain": [
       "[]"
      ]
     },
     "metadata": {},
     "execution_count": 15
    }
   ],
   "metadata": {}
  },
  {
   "cell_type": "code",
   "execution_count": 11,
   "source": [
    "# Convert array of dictionaries to a pandas DataFrame.\r\n",
    "city_data_df = pd.DataFrame(city_data)\r\n",
    "city_data_df.head()"
   ],
   "outputs": [
    {
     "output_type": "execute_result",
     "data": {
      "text/html": [
       "<div>\n",
       "<style scoped>\n",
       "    .dataframe tbody tr th:only-of-type {\n",
       "        vertical-align: middle;\n",
       "    }\n",
       "\n",
       "    .dataframe tbody tr th {\n",
       "        vertical-align: top;\n",
       "    }\n",
       "\n",
       "    .dataframe thead th {\n",
       "        text-align: right;\n",
       "    }\n",
       "</style>\n",
       "<table border=\"1\" class=\"dataframe\">\n",
       "  <thead>\n",
       "    <tr style=\"text-align: right;\">\n",
       "      <th></th>\n",
       "      <th>City</th>\n",
       "      <th>Lat</th>\n",
       "      <th>Lng</th>\n",
       "      <th>Max Temp</th>\n",
       "      <th>Current Description</th>\n",
       "      <th>Humidity</th>\n",
       "      <th>Cloudiness</th>\n",
       "      <th>Wind Speed</th>\n",
       "      <th>Country</th>\n",
       "    </tr>\n",
       "  </thead>\n",
       "  <tbody>\n",
       "    <tr>\n",
       "      <th>0</th>\n",
       "      <td>Upernavik</td>\n",
       "      <td>72.7868</td>\n",
       "      <td>-56.1549</td>\n",
       "      <td>32.11</td>\n",
       "      <td>broken clouds</td>\n",
       "      <td>75</td>\n",
       "      <td>69</td>\n",
       "      <td>7.09</td>\n",
       "      <td>GL</td>\n",
       "    </tr>\n",
       "    <tr>\n",
       "      <th>1</th>\n",
       "      <td>Portland</td>\n",
       "      <td>45.5234</td>\n",
       "      <td>-122.6762</td>\n",
       "      <td>76.55</td>\n",
       "      <td>broken clouds</td>\n",
       "      <td>68</td>\n",
       "      <td>75</td>\n",
       "      <td>1.99</td>\n",
       "      <td>US</td>\n",
       "    </tr>\n",
       "    <tr>\n",
       "      <th>2</th>\n",
       "      <td>Poum</td>\n",
       "      <td>-20.2333</td>\n",
       "      <td>164.0167</td>\n",
       "      <td>72.81</td>\n",
       "      <td>clear sky</td>\n",
       "      <td>60</td>\n",
       "      <td>7</td>\n",
       "      <td>8.88</td>\n",
       "      <td>NC</td>\n",
       "    </tr>\n",
       "    <tr>\n",
       "      <th>3</th>\n",
       "      <td>Bredasdorp</td>\n",
       "      <td>-34.5322</td>\n",
       "      <td>20.0403</td>\n",
       "      <td>52.29</td>\n",
       "      <td>overcast clouds</td>\n",
       "      <td>87</td>\n",
       "      <td>100</td>\n",
       "      <td>2.30</td>\n",
       "      <td>ZA</td>\n",
       "    </tr>\n",
       "    <tr>\n",
       "      <th>4</th>\n",
       "      <td>Gornopravdinsk</td>\n",
       "      <td>60.0500</td>\n",
       "      <td>69.9000</td>\n",
       "      <td>45.95</td>\n",
       "      <td>light rain</td>\n",
       "      <td>97</td>\n",
       "      <td>100</td>\n",
       "      <td>8.05</td>\n",
       "      <td>RU</td>\n",
       "    </tr>\n",
       "  </tbody>\n",
       "</table>\n",
       "</div>"
      ],
      "text/plain": [
       "             City      Lat       Lng  Max Temp Current Description  Humidity  \\\n",
       "0       Upernavik  72.7868  -56.1549     32.11       broken clouds        75   \n",
       "1        Portland  45.5234 -122.6762     76.55       broken clouds        68   \n",
       "2            Poum -20.2333  164.0167     72.81           clear sky        60   \n",
       "3      Bredasdorp -34.5322   20.0403     52.29     overcast clouds        87   \n",
       "4  Gornopravdinsk  60.0500   69.9000     45.95          light rain        97   \n",
       "\n",
       "   Cloudiness  Wind Speed Country  \n",
       "0          69        7.09      GL  \n",
       "1          75        1.99      US  \n",
       "2           7        8.88      NC  \n",
       "3         100        2.30      ZA  \n",
       "4         100        8.05      RU  "
      ]
     },
     "metadata": {},
     "execution_count": 11
    }
   ],
   "metadata": {}
  },
  {
   "cell_type": "code",
   "execution_count": null,
   "source": [],
   "outputs": [],
   "metadata": {}
  }
 ],
 "metadata": {
  "orig_nbformat": 4,
  "language_info": {
   "name": "python",
   "version": "3.8.8",
   "mimetype": "text/x-python",
   "codemirror_mode": {
    "name": "ipython",
    "version": 3
   },
   "pygments_lexer": "ipython3",
   "nbconvert_exporter": "python",
   "file_extension": ".py"
  },
  "kernelspec": {
   "name": "python3",
   "display_name": "Python 3.8.8 64-bit ('base': conda)"
  },
  "interpreter": {
   "hash": "696a868d263820d96c3e015462b3285736058cba07fad26566882fe661452fde"
  }
 },
 "nbformat": 4,
 "nbformat_minor": 2
}